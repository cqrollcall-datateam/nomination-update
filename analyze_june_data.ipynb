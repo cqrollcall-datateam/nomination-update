{
 "cells": [
  {
   "cell_type": "markdown",
   "metadata": {},
   "source": [
    "# Counting Nominations and Confirmations\n",
    "\n",
    "By [Sean McMinn](http://www.github.com/shmcminn)\n",
    "\n",
    "Roll Call used the analysis below ot publish an update on the number of nominations President Donald Trump had sent to the Senate, as well as how many the Senate had confirmed. The story can be found [here]()."
   ]
  },
  {
   "cell_type": "code",
   "execution_count": 225,
   "metadata": {},
   "outputs": [],
   "source": [
    "import pandas as pd\n",
    "from datetime import datetime\n",
    "\n",
    "pd.set_option('display.max_colwidth', -1)\n",
    "\n",
    "additional_june_noms = 18"
   ]
  },
  {
   "cell_type": "markdown",
   "metadata": {},
   "source": [
    "# Reads in CSV of nominations created by scraping Congress.gov"
   ]
  },
  {
   "cell_type": "code",
   "execution_count": 226,
   "metadata": {
    "scrolled": true
   },
   "outputs": [
    {
     "data": {
      "text/html": [
       "<div>\n",
       "<style>\n",
       "    .dataframe thead tr:only-child th {\n",
       "        text-align: right;\n",
       "    }\n",
       "\n",
       "    .dataframe thead th {\n",
       "        text-align: left;\n",
       "    }\n",
       "\n",
       "    .dataframe tbody tr th {\n",
       "        vertical-align: top;\n",
       "    }\n",
       "</style>\n",
       "<table border=\"1\" class=\"dataframe\">\n",
       "  <thead>\n",
       "    <tr style=\"text-align: right;\">\n",
       "      <th></th>\n",
       "      <th>received</th>\n",
       "      <th>confirmed</th>\n",
       "      <th>name</th>\n",
       "      <th>nom_count</th>\n",
       "      <th>agency</th>\n",
       "      <th>duplicate</th>\n",
       "      <th>committee</th>\n",
       "      <th>latest_action</th>\n",
       "      <th>latest_action_date</th>\n",
       "      <th>potus</th>\n",
       "      <th>desc</th>\n",
       "    </tr>\n",
       "  </thead>\n",
       "  <tbody>\n",
       "    <tr>\n",
       "      <th>0</th>\n",
       "      <td>3/21/17</td>\n",
       "      <td>yes</td>\n",
       "      <td>Courtney Elwood</td>\n",
       "      <td>1</td>\n",
       "      <td>Central Intelligence Agency</td>\n",
       "      <td>no</td>\n",
       "      <td>Intelligence</td>\n",
       "      <td>Confirmed by the Senate by Yea-Nay Vote. 67</td>\n",
       "      <td>06/06/2017</td>\n",
       "      <td>Obama</td>\n",
       "      <td>Courtney Elwood, of Virginia, to be General Counsel of the Central Intelligence Agency, vice Caroline Diane Krass, resigned.</td>\n",
       "    </tr>\n",
       "    <tr>\n",
       "      <th>1</th>\n",
       "      <td>1/20/17</td>\n",
       "      <td>yes</td>\n",
       "      <td>Mike Pompeo</td>\n",
       "      <td>1</td>\n",
       "      <td>Central Intelligence Agency</td>\n",
       "      <td>no</td>\n",
       "      <td>Intelligence</td>\n",
       "      <td>Confirmed by the Senate by Yea-Nay Vote. 66</td>\n",
       "      <td>01/23/2017</td>\n",
       "      <td>Obama</td>\n",
       "      <td>Mike Pompeo, of Kansas, to be Director of the Central Intelligence Agency, vice John Owen Brennan.</td>\n",
       "    </tr>\n",
       "    <tr>\n",
       "      <th>2</th>\n",
       "      <td>1/20/17</td>\n",
       "      <td>yes</td>\n",
       "      <td>NaN</td>\n",
       "      <td>1</td>\n",
       "      <td>Civilian</td>\n",
       "      <td>no</td>\n",
       "      <td>Foreign Relations</td>\n",
       "      <td>Confirmed by the Senate by Yea-Nay Vote. 82</td>\n",
       "      <td>05/22/2017</td>\n",
       "      <td>Obama</td>\n",
       "      <td>NaN</td>\n",
       "    </tr>\n",
       "    <tr>\n",
       "      <th>3</th>\n",
       "      <td>6/12/17</td>\n",
       "      <td>no</td>\n",
       "      <td>Dawn DeBerry Stump</td>\n",
       "      <td>1</td>\n",
       "      <td>Commodity Futures Trading Commission</td>\n",
       "      <td>no</td>\n",
       "      <td>Agriculture, Nutrition, and Forestry</td>\n",
       "      <td>Received in the Senate and referred to the Committee on Agriculture, Nutrition, and Forestry. (</td>\n",
       "      <td>06/12/2017</td>\n",
       "      <td>Obama</td>\n",
       "      <td>Dawn DeBerry Stump, of Texas, to be a Commissioner of the Commodity Futures Trading Commission for a term expiring April 13, 2022, vice Timothy G. Massad resigned.</td>\n",
       "    </tr>\n",
       "    <tr>\n",
       "      <th>4</th>\n",
       "      <td>5/16/17</td>\n",
       "      <td>no</td>\n",
       "      <td>Brian D. Quintenz</td>\n",
       "      <td>1</td>\n",
       "      <td>Commodity Futures Trading Commission</td>\n",
       "      <td>no</td>\n",
       "      <td>Agriculture, Nutrition, and Forestry</td>\n",
       "      <td>Received in the Senate and referred to the Committee on Agriculture, Nutrition, and Forestry. (</td>\n",
       "      <td>05/16/2017</td>\n",
       "      <td>Obama</td>\n",
       "      <td>Brian D. Quintenz, of Ohio, to be a Commissioner of the Commodity Futures Trading Commission for a term expiring April 13, 2020, vice Scott O'Malia, resigned.</td>\n",
       "    </tr>\n",
       "  </tbody>\n",
       "</table>\n",
       "</div>"
      ],
      "text/plain": [
       "  received confirmed                name  nom_count  \\\n",
       "0  3/21/17  yes       Courtney Elwood     1           \n",
       "1  1/20/17  yes       Mike Pompeo         1           \n",
       "2  1/20/17  yes       NaN                 1           \n",
       "3  6/12/17  no        Dawn DeBerry Stump  1           \n",
       "4  5/16/17  no        Brian D. Quintenz   1           \n",
       "\n",
       "                                 agency duplicate  \\\n",
       "0  Central Intelligence Agency           no         \n",
       "1  Central Intelligence Agency           no         \n",
       "2  Civilian                              no         \n",
       "3  Commodity Futures Trading Commission  no         \n",
       "4  Commodity Futures Trading Commission  no         \n",
       "\n",
       "                              committee  \\\n",
       "0  Intelligence                           \n",
       "1  Intelligence                           \n",
       "2  Foreign Relations                      \n",
       "3  Agriculture, Nutrition, and Forestry   \n",
       "4  Agriculture, Nutrition, and Forestry   \n",
       "\n",
       "                                                                                     latest_action  \\\n",
       "0  Confirmed by the Senate by Yea-Nay Vote. 67                                                       \n",
       "1  Confirmed by the Senate by Yea-Nay Vote. 66                                                       \n",
       "2  Confirmed by the Senate by Yea-Nay Vote. 82                                                       \n",
       "3  Received in the Senate and referred to the Committee on Agriculture, Nutrition, and Forestry. (   \n",
       "4  Received in the Senate and referred to the Committee on Agriculture, Nutrition, and Forestry. (   \n",
       "\n",
       "  latest_action_date  potus  \\\n",
       "0   06/06/2017        Obama   \n",
       "1   01/23/2017        Obama   \n",
       "2   05/22/2017        Obama   \n",
       "3   06/12/2017        Obama   \n",
       "4   05/16/2017        Obama   \n",
       "\n",
       "                                                                                                                                                                  desc  \n",
       "0  Courtney Elwood, of Virginia, to be General Counsel of the Central Intelligence Agency, vice Caroline Diane Krass, resigned.                                         \n",
       "1  Mike Pompeo, of Kansas, to be Director of the Central Intelligence Agency, vice John Owen Brennan.                                                                   \n",
       "2  NaN                                                                                                                                                                  \n",
       "3  Dawn DeBerry Stump, of Texas, to be a Commissioner of the Commodity Futures Trading Commission for a term expiring April 13, 2022, vice Timothy G. Massad resigned.  \n",
       "4  Brian D. Quintenz, of Ohio, to be a Commissioner of the Commodity Futures Trading Commission for a term expiring April 13, 2020, vice Scott O'Malia, resigned.       "
      ]
     },
     "execution_count": 226,
     "metadata": {},
     "output_type": "execute_result"
    }
   ],
   "source": [
    "all_noms = pd.read_csv(\"all_nominations_confirmations_late_june.csv\")\n",
    "all_noms.head()"
   ]
  },
  {
   "cell_type": "markdown",
   "metadata": {},
   "source": [
    "# Gets counts of how many nominees have been sent and confirmed\n",
    "\n",
    "## Nominees for Foreign Service positions"
   ]
  },
  {
   "cell_type": "code",
   "execution_count": 227,
   "metadata": {},
   "outputs": [
    {
     "data": {
      "text/plain": [
       "649"
      ]
     },
     "execution_count": 227,
     "metadata": {},
     "output_type": "execute_result"
    }
   ],
   "source": [
    "# number of noms for foreign service\n",
    "\n",
    "all_noms[all_noms[\"agency\"] == \"Foreign Service\"][\"nom_count\"].sum()"
   ]
  },
  {
   "cell_type": "markdown",
   "metadata": {},
   "source": [
    "## Nominees for non-Foreign Service positions"
   ]
  },
  {
   "cell_type": "code",
   "execution_count": 228,
   "metadata": {},
   "outputs": [
    {
     "data": {
      "text/plain": [
       "213"
      ]
     },
     "execution_count": 228,
     "metadata": {},
     "output_type": "execute_result"
    }
   ],
   "source": [
    "# number noms NOT foreign service\n",
    "\n",
    "all_noms[all_noms[\"agency\"] != \"Foreign Service\"][\"nom_count\"].sum() + additional_june_noms"
   ]
  },
  {
   "cell_type": "markdown",
   "metadata": {},
   "source": [
    "## Confirmations FS positions"
   ]
  },
  {
   "cell_type": "code",
   "execution_count": 229,
   "metadata": {},
   "outputs": [
    {
     "data": {
      "text/plain": [
       "367"
      ]
     },
     "execution_count": 229,
     "metadata": {},
     "output_type": "execute_result"
    }
   ],
   "source": [
    "# number confirmed foreign service\n",
    "\n",
    "all_noms[(all_noms[\"agency\"] == \"Foreign Service\") & (all_noms[\"confirmed\"] == \"yes\")][\"nom_count\"].sum()"
   ]
  },
  {
   "cell_type": "markdown",
   "metadata": {},
   "source": [
    "## Confirmations non-FS positions"
   ]
  },
  {
   "cell_type": "code",
   "execution_count": 230,
   "metadata": {},
   "outputs": [
    {
     "data": {
      "text/plain": [
       "49"
      ]
     },
     "execution_count": 230,
     "metadata": {},
     "output_type": "execute_result"
    }
   ],
   "source": [
    "# number confirmed NOT foreign service\n",
    "\n",
    "all_noms[(all_noms[\"agency\"] != \"Foreign Service\") & (all_noms[\"confirmed\"] == \"yes\")][\"nom_count\"].sum()"
   ]
  },
  {
   "cell_type": "markdown",
   "metadata": {},
   "source": [
    "## Counts number of nominees received each month"
   ]
  },
  {
   "cell_type": "code",
   "execution_count": 231,
   "metadata": {
    "scrolled": true
   },
   "outputs": [
    {
     "name": "stdout",
     "output_type": "stream",
     "text": [
      "18 additional for June\n",
      "            nom_count\n",
      "received             \n",
      "2017-01-31  27       \n",
      "2017-02-28  7        \n",
      "2017-03-31  15       \n",
      "2017-04-30  394      \n",
      "2017-05-31  46       \n",
      "2017-06-30  355      \n",
      "total noms (incl addtl june noms): nom_count    862\n",
      "dtype: int64\n"
     ]
    }
   ],
   "source": [
    "# breadown noms by month\n",
    "\n",
    "all_noms['received'] = pd.to_datetime(all_noms[\"received\"])\n",
    "all_noms.index = all_noms[\"received\"]\n",
    "\n",
    "monthly_noms = all_noms.resample('M').sum()\n",
    "\n",
    "\n",
    "\n",
    "print(str(additional_june_noms) + \" additional for June\")\n",
    "print(monthly_noms)\n",
    "print(\"total noms (incl addtl june noms): \" + str(monthly_noms.sum() + additional_june_noms))"
   ]
  },
  {
   "cell_type": "markdown",
   "metadata": {},
   "source": [
    "## Counts number of nominees in June vs first months"
   ]
  },
  {
   "cell_type": "code",
   "execution_count": 232,
   "metadata": {},
   "outputs": [
    {
     "name": "stdout",
     "output_type": "stream",
     "text": [
      "373 total noms in jun\n",
      "489 in first mos\n",
      "278 FS noms in jun\n"
     ]
    }
   ],
   "source": [
    "# breakdown  noms in June\n",
    "\n",
    "print(str(int(monthly_noms[monthly_noms.index == \"2017-06-30\"][\"nom_count\"]) + additional_june_noms) + \" total noms in jun\")\n",
    "\n",
    "print(str(monthly_noms[monthly_noms.index != \"2017-06-30\"][\"nom_count\"].sum()) + \" in first mos\")\n",
    "\n",
    "monthly_noms_fs = all_noms[all_noms[\"agency\"] == \"Foreign Service\"].resample('M').sum()\n",
    "\n",
    "print(str(int(monthly_noms_fs[monthly_noms_fs.index == \"2017-06-30\"][\"nom_count\"])) + \" FS noms in jun\")"
   ]
  },
  {
   "cell_type": "markdown",
   "metadata": {},
   "source": [
    "## Counts number of confirmations by month for all noms and just FS noms"
   ]
  },
  {
   "cell_type": "code",
   "execution_count": 233,
   "metadata": {
    "scrolled": true
   },
   "outputs": [
    {
     "name": "stdout",
     "output_type": "stream",
     "text": [
      "                    nom_count\n",
      "latest_action_date           \n",
      "2017-01-31          5        \n",
      "2017-02-28          10       \n",
      "2017-03-31          8        \n",
      "2017-04-30          5        \n",
      "2017-05-31          361      \n",
      "2017-06-30          27       \n",
      "\n",
      "\n",
      "Just FS:\n",
      "                    nom_count\n",
      "latest_action_date           \n",
      "2017-05-31          347      \n",
      "2017-06-30          20       \n",
      "\n",
      "\n",
      "average non FS confs per month is 8.16666666667\n"
     ]
    }
   ],
   "source": [
    "# breadown confirmations by month\n",
    "\n",
    "all_noms['latest_action_date'] = pd.to_datetime(all_noms[\"latest_action_date\"])\n",
    "all_noms.index = all_noms[\"latest_action_date\"]\n",
    "print(all_noms[all_noms[\"confirmed\"] == \"yes\"].resample('M').sum())\n",
    "\n",
    "print(\"\\n\\nJust FS:\")\n",
    "print(all_noms[(all_noms[\"confirmed\"] == \"yes\") & (all_noms[\"agency\"] == \"Foreign Service\")].resample('M').sum())\n",
    "\n",
    "print(\"\\n\\naverage non FS confs per month is \" + str(all_noms[(all_noms[\"confirmed\"] == \"yes\") & (all_noms[\"agency\"] != \"Foreign Service\")].resample('M').sum()[\"nom_count\"].mean()))"
   ]
  },
  {
   "cell_type": "markdown",
   "metadata": {},
   "source": [
    "## Calculates number of people nominated but not confirmed"
   ]
  },
  {
   "cell_type": "code",
   "execution_count": 235,
   "metadata": {},
   "outputs": [
    {
     "data": {
      "text/plain": [
       "442"
      ]
     },
     "execution_count": 235,
     "metadata": {},
     "output_type": "execute_result"
    }
   ],
   "source": [
    "#backlog\n",
    "\n",
    "withdraws = 4\n",
    "\n",
    "all_noms[\"nom_count\"].sum() + additional_june_noms - all_noms[all_noms[\"confirmed\"] == \"yes\"][\"nom_count\"].sum() - withdraws"
   ]
  },
  {
   "cell_type": "code",
   "execution_count": null,
   "metadata": {
    "collapsed": true
   },
   "outputs": [],
   "source": []
  }
 ],
 "metadata": {
  "kernelspec": {
   "display_name": "Python 3",
   "language": "python",
   "name": "python3"
  },
  "language_info": {
   "codemirror_mode": {
    "name": "ipython",
    "version": 3
   },
   "file_extension": ".py",
   "mimetype": "text/x-python",
   "name": "python",
   "nbconvert_exporter": "python",
   "pygments_lexer": "ipython3",
   "version": "3.6.0"
  }
 },
 "nbformat": 4,
 "nbformat_minor": 2
}
